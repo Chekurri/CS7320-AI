{
 "cells": [
  {
   "cell_type": "markdown",
   "id": "6b13f9c2-2f49-456e-b7aa-19b19dccf0e2",
   "metadata": {},
   "source": [
    "# Bayesian Networks in Python\n",
    "\n",
    "I will build a Bayesian (Belief) Network for the Alarm example in the textbook using the Python library [pgmpy](https://pgmpy.org/).\n"
   ]
  },
  {
   "cell_type": "code",
   "execution_count": 83,
   "metadata": {},
   "outputs": [],
   "source": [
    "! pip install -q pgmpy"
   ]
  },
  {
   "cell_type": "markdown",
   "metadata": {},
   "source": [
    "## Defining the  Bayesian Network\n",
    "\n",
    "![The Alarm Bayes Network](Alarm_BN.png)"
   ]
  },
  {
   "cell_type": "code",
   "execution_count": 84,
   "metadata": {},
   "outputs": [],
   "source": [
    "# pgmpy currently uses a pandas feature that will be deprecated in the future.\n",
    "import warnings\n",
    "warnings.simplefilter(action='ignore', category=FutureWarning)\n",
    "\n",
    "import pandas as pd\n",
    "\n",
    "from pgmpy.models import BayesianNetwork\n",
    "from pgmpy.inference import VariableElimination\n",
    "\n",
    "model = BayesianNetwork(\n",
    "    [\n",
    "        (\"Burglary\", \"Alarm\"),\n",
    "        (\"Earthquake\", \"Alarm\"),\n",
    "        (\"Alarm\", \"JohnCalls\"),\n",
    "        (\"Alarm\", \"MaryCalls\"),\n",
    "    ]\n",
    ")\n",
    "\n",
    "# Defining the parameters using CPT\n",
    "from pgmpy.factors.discrete import TabularCPD\n",
    "\n",
    "cpd_burglary = TabularCPD(\n",
    "    variable=\"Burglary\", variable_card=2, values=[[0.999], [0.001]]\n",
    ")\n",
    "cpd_earthquake = TabularCPD(\n",
    "    variable=\"Earthquake\", variable_card=2, values=[[0.998], [0.002]]\n",
    ")\n",
    "cpd_alarm = TabularCPD(\n",
    "    variable=\"Alarm\",\n",
    "    variable_card=2,\n",
    "    values=[[0.999, 0.71, 0.06, 0.05], [0.001, 0.29, 0.94, 0.95]],\n",
    "    evidence=[\"Burglary\", \"Earthquake\"],\n",
    "    evidence_card=[2, 2],\n",
    ")\n",
    "cpd_johncalls = TabularCPD(\n",
    "    variable=\"JohnCalls\",\n",
    "    variable_card=2,\n",
    "    values=[[0.95, 0.1], [0.05, 0.9]],\n",
    "    evidence=[\"Alarm\"],\n",
    "    evidence_card=[2],\n",
    ")\n",
    "cpd_marycalls = TabularCPD(\n",
    "    variable=\"MaryCalls\",\n",
    "    variable_card=2,\n",
    "    values=[[0.99, 0.3], [0.01, 0.7]],\n",
    "    evidence=[\"Alarm\"],\n",
    "    evidence_card=[2],\n",
    ")\n",
    "\n",
    "# Associating the parameters with the model structure\n",
    "model.add_cpds(\n",
    "    cpd_burglary, cpd_earthquake, cpd_alarm, cpd_johncalls, cpd_marycalls\n",
    ")"
   ]
  },
  {
   "cell_type": "code",
   "execution_count": 85,
   "id": "d3126ff4",
   "metadata": {},
   "outputs": [
    {
     "data": {
      "text/plain": [
       "(Burglary ⟂ Earthquake)\n",
       "(Burglary ⟂ MaryCalls, JohnCalls | Alarm)\n",
       "(Burglary ⟂ MaryCalls, JohnCalls | Alarm, Earthquake)\n",
       "(Burglary ⟂ JohnCalls | Alarm, MaryCalls)\n",
       "(Burglary ⟂ MaryCalls | Alarm, JohnCalls)\n",
       "(Burglary ⟂ JohnCalls | Alarm, Earthquake, MaryCalls)\n",
       "(Burglary ⟂ MaryCalls | Alarm, Earthquake, JohnCalls)\n",
       "(Earthquake ⟂ Burglary)\n",
       "(Earthquake ⟂ MaryCalls, JohnCalls | Alarm)\n",
       "(Earthquake ⟂ JohnCalls | Alarm, MaryCalls)\n",
       "(Earthquake ⟂ MaryCalls, JohnCalls | Alarm, Burglary)\n",
       "(Earthquake ⟂ MaryCalls | Alarm, JohnCalls)\n",
       "(Earthquake ⟂ JohnCalls | Alarm, MaryCalls, Burglary)\n",
       "(Earthquake ⟂ MaryCalls | Alarm, Burglary, JohnCalls)\n",
       "(MaryCalls ⟂ Earthquake, Burglary, JohnCalls | Alarm)\n",
       "(MaryCalls ⟂ Burglary, JohnCalls | Alarm, Earthquake)\n",
       "(MaryCalls ⟂ Earthquake, JohnCalls | Alarm, Burglary)\n",
       "(MaryCalls ⟂ Earthquake, Burglary | Alarm, JohnCalls)\n",
       "(MaryCalls ⟂ JohnCalls | Alarm, Earthquake, Burglary)\n",
       "(MaryCalls ⟂ Burglary | Alarm, Earthquake, JohnCalls)\n",
       "(MaryCalls ⟂ Earthquake | Alarm, Burglary, JohnCalls)\n",
       "(JohnCalls ⟂ Earthquake, MaryCalls, Burglary | Alarm)\n",
       "(JohnCalls ⟂ MaryCalls, Burglary | Alarm, Earthquake)\n",
       "(JohnCalls ⟂ Earthquake, Burglary | Alarm, MaryCalls)\n",
       "(JohnCalls ⟂ Earthquake, MaryCalls | Alarm, Burglary)\n",
       "(JohnCalls ⟂ Burglary | Alarm, Earthquake, MaryCalls)\n",
       "(JohnCalls ⟂ MaryCalls | Alarm, Earthquake, Burglary)\n",
       "(JohnCalls ⟂ Earthquake | Alarm, MaryCalls, Burglary)"
      ]
     },
     "execution_count": 85,
     "metadata": {},
     "output_type": "execute_result"
    }
   ],
   "source": [
    "model.get_independencies()"
   ]
  },
  {
   "cell_type": "markdown",
   "id": "72772292",
   "metadata": {},
   "source": [
    "See: [pmgpy: Bayesian Networks](https://pgmpy.org/models/bayesiannetwork.html)"
   ]
  },
  {
   "cell_type": "markdown",
   "id": "0a060609-b9e7-49d2-b2f0-20066f888387",
   "metadata": {},
   "source": [
    "# Approximate Inference: Sample from the Network\n",
    "\n",
    "See: [pmgpy Approximate Inference Using Sampling](https://pgmpy.org/approx_infer/approx_infer.html)\n",
    "\n",
    "We will call here directly the sampling methods a more convenient interface is provided as `model.simulate()` which will automatically choose the correct sampling method."
   ]
  },
  {
   "cell_type": "code",
   "execution_count": 86,
   "id": "6931f8de",
   "metadata": {},
   "outputs": [],
   "source": [
    "from pgmpy.factors.discrete import State\n",
    "\n",
    "inference = BayesianModelSampling(model)"
   ]
  },
  {
   "cell_type": "markdown",
   "id": "dcf17cd0",
   "metadata": {},
   "source": [
    "## Prior sampling\n",
    "\n",
    "Samples a complete event from the network.\n",
    "An event is an assignment for each variable sampled from the network. Prior sampling is called `forward_sample` in `pgmpy`."
   ]
  },
  {
   "cell_type": "code",
   "execution_count": 87,
   "id": "0ff083d9",
   "metadata": {},
   "outputs": [
    {
     "name": "stderr",
     "output_type": "stream",
     "text": [
      "\n",
      "\u001b[A\n",
      "\u001b[A\n",
      "\u001b[A\n",
      "\u001b[A\n",
      "\u001b[A\n",
      "Generating for node: MaryCalls: 100%|██████████| 5/5 [00:00<00:00, 465.20it/s]\n"
     ]
    },
    {
     "data": {
      "text/html": [
       "<div>\n",
       "<style scoped>\n",
       "    .dataframe tbody tr th:only-of-type {\n",
       "        vertical-align: middle;\n",
       "    }\n",
       "\n",
       "    .dataframe tbody tr th {\n",
       "        vertical-align: top;\n",
       "    }\n",
       "\n",
       "    .dataframe thead th {\n",
       "        text-align: right;\n",
       "    }\n",
       "</style>\n",
       "<table border=\"1\" class=\"dataframe\">\n",
       "  <thead>\n",
       "    <tr style=\"text-align: right;\">\n",
       "      <th></th>\n",
       "      <th>Burglary</th>\n",
       "      <th>Alarm</th>\n",
       "      <th>Earthquake</th>\n",
       "      <th>JohnCalls</th>\n",
       "      <th>MaryCalls</th>\n",
       "    </tr>\n",
       "  </thead>\n",
       "  <tbody>\n",
       "    <tr>\n",
       "      <th>0</th>\n",
       "      <td>0</td>\n",
       "      <td>0</td>\n",
       "      <td>0</td>\n",
       "      <td>0</td>\n",
       "      <td>0</td>\n",
       "    </tr>\n",
       "    <tr>\n",
       "      <th>1</th>\n",
       "      <td>0</td>\n",
       "      <td>0</td>\n",
       "      <td>0</td>\n",
       "      <td>0</td>\n",
       "      <td>0</td>\n",
       "    </tr>\n",
       "    <tr>\n",
       "      <th>2</th>\n",
       "      <td>0</td>\n",
       "      <td>0</td>\n",
       "      <td>0</td>\n",
       "      <td>0</td>\n",
       "      <td>0</td>\n",
       "    </tr>\n",
       "    <tr>\n",
       "      <th>3</th>\n",
       "      <td>0</td>\n",
       "      <td>0</td>\n",
       "      <td>0</td>\n",
       "      <td>0</td>\n",
       "      <td>0</td>\n",
       "    </tr>\n",
       "    <tr>\n",
       "      <th>4</th>\n",
       "      <td>0</td>\n",
       "      <td>0</td>\n",
       "      <td>0</td>\n",
       "      <td>0</td>\n",
       "      <td>0</td>\n",
       "    </tr>\n",
       "    <tr>\n",
       "      <th>5</th>\n",
       "      <td>0</td>\n",
       "      <td>0</td>\n",
       "      <td>0</td>\n",
       "      <td>0</td>\n",
       "      <td>0</td>\n",
       "    </tr>\n",
       "    <tr>\n",
       "      <th>6</th>\n",
       "      <td>0</td>\n",
       "      <td>0</td>\n",
       "      <td>0</td>\n",
       "      <td>0</td>\n",
       "      <td>0</td>\n",
       "    </tr>\n",
       "    <tr>\n",
       "      <th>7</th>\n",
       "      <td>0</td>\n",
       "      <td>0</td>\n",
       "      <td>0</td>\n",
       "      <td>0</td>\n",
       "      <td>0</td>\n",
       "    </tr>\n",
       "    <tr>\n",
       "      <th>8</th>\n",
       "      <td>0</td>\n",
       "      <td>0</td>\n",
       "      <td>0</td>\n",
       "      <td>0</td>\n",
       "      <td>0</td>\n",
       "    </tr>\n",
       "    <tr>\n",
       "      <th>9</th>\n",
       "      <td>0</td>\n",
       "      <td>0</td>\n",
       "      <td>0</td>\n",
       "      <td>0</td>\n",
       "      <td>0</td>\n",
       "    </tr>\n",
       "  </tbody>\n",
       "</table>\n",
       "</div>"
      ],
      "text/plain": [
       "   Burglary  Alarm  Earthquake  JohnCalls  MaryCalls\n",
       "0         0      0           0          0          0\n",
       "1         0      0           0          0          0\n",
       "2         0      0           0          0          0\n",
       "3         0      0           0          0          0\n",
       "4         0      0           0          0          0\n",
       "5         0      0           0          0          0\n",
       "6         0      0           0          0          0\n",
       "7         0      0           0          0          0\n",
       "8         0      0           0          0          0\n",
       "9         0      0           0          0          0"
      ]
     },
     "execution_count": 87,
     "metadata": {},
     "output_type": "execute_result"
    }
   ],
   "source": [
    "inference.forward_sample(size=10)"
   ]
  },
  {
   "cell_type": "markdown",
   "id": "bd1d1b6e",
   "metadata": {},
   "source": [
    "Convenient version:\n",
    "`model.simulate(n_samples=10)`"
   ]
  },
  {
   "cell_type": "markdown",
   "id": "21e4e157-8bd3-474d-bac9-246342e71c5a",
   "metadata": {},
   "source": [
    "## Sampling with evidence\n",
    "\n",
    "### Rejection sampling\n",
    "Uses rejection sampling by ignoring the samples that are not consistent with the evidence.\n",
    "\n",
    "Fixing `Burglary` is easy since it is an unconditional node."
   ]
  },
  {
   "cell_type": "code",
   "execution_count": 88,
   "id": "810be8ca",
   "metadata": {},
   "outputs": [
    {
     "name": "stderr",
     "output_type": "stream",
     "text": [
      "\n",
      "100%|██████████| 10/10 [00:00<00:00, 119.99it/s]\n"
     ]
    },
    {
     "data": {
      "text/html": [
       "<div>\n",
       "<style scoped>\n",
       "    .dataframe tbody tr th:only-of-type {\n",
       "        vertical-align: middle;\n",
       "    }\n",
       "\n",
       "    .dataframe tbody tr th {\n",
       "        vertical-align: top;\n",
       "    }\n",
       "\n",
       "    .dataframe thead th {\n",
       "        text-align: right;\n",
       "    }\n",
       "</style>\n",
       "<table border=\"1\" class=\"dataframe\">\n",
       "  <thead>\n",
       "    <tr style=\"text-align: right;\">\n",
       "      <th></th>\n",
       "      <th>Burglary</th>\n",
       "      <th>Alarm</th>\n",
       "      <th>Earthquake</th>\n",
       "      <th>JohnCalls</th>\n",
       "      <th>MaryCalls</th>\n",
       "    </tr>\n",
       "  </thead>\n",
       "  <tbody>\n",
       "    <tr>\n",
       "      <th>0</th>\n",
       "      <td>1</td>\n",
       "      <td>1</td>\n",
       "      <td>0</td>\n",
       "      <td>1</td>\n",
       "      <td>0</td>\n",
       "    </tr>\n",
       "    <tr>\n",
       "      <th>1</th>\n",
       "      <td>1</td>\n",
       "      <td>1</td>\n",
       "      <td>0</td>\n",
       "      <td>1</td>\n",
       "      <td>1</td>\n",
       "    </tr>\n",
       "    <tr>\n",
       "      <th>2</th>\n",
       "      <td>1</td>\n",
       "      <td>1</td>\n",
       "      <td>0</td>\n",
       "      <td>1</td>\n",
       "      <td>1</td>\n",
       "    </tr>\n",
       "    <tr>\n",
       "      <th>3</th>\n",
       "      <td>1</td>\n",
       "      <td>1</td>\n",
       "      <td>0</td>\n",
       "      <td>1</td>\n",
       "      <td>1</td>\n",
       "    </tr>\n",
       "    <tr>\n",
       "      <th>4</th>\n",
       "      <td>1</td>\n",
       "      <td>1</td>\n",
       "      <td>0</td>\n",
       "      <td>1</td>\n",
       "      <td>1</td>\n",
       "    </tr>\n",
       "    <tr>\n",
       "      <th>5</th>\n",
       "      <td>1</td>\n",
       "      <td>1</td>\n",
       "      <td>0</td>\n",
       "      <td>1</td>\n",
       "      <td>0</td>\n",
       "    </tr>\n",
       "    <tr>\n",
       "      <th>6</th>\n",
       "      <td>1</td>\n",
       "      <td>1</td>\n",
       "      <td>0</td>\n",
       "      <td>1</td>\n",
       "      <td>1</td>\n",
       "    </tr>\n",
       "    <tr>\n",
       "      <th>7</th>\n",
       "      <td>1</td>\n",
       "      <td>1</td>\n",
       "      <td>0</td>\n",
       "      <td>0</td>\n",
       "      <td>1</td>\n",
       "    </tr>\n",
       "    <tr>\n",
       "      <th>8</th>\n",
       "      <td>1</td>\n",
       "      <td>1</td>\n",
       "      <td>0</td>\n",
       "      <td>1</td>\n",
       "      <td>1</td>\n",
       "    </tr>\n",
       "    <tr>\n",
       "      <th>9</th>\n",
       "      <td>1</td>\n",
       "      <td>1</td>\n",
       "      <td>0</td>\n",
       "      <td>1</td>\n",
       "      <td>0</td>\n",
       "    </tr>\n",
       "  </tbody>\n",
       "</table>\n",
       "</div>"
      ],
      "text/plain": [
       "   Burglary  Alarm  Earthquake  JohnCalls  MaryCalls\n",
       "0         1      1           0          1          0\n",
       "1         1      1           0          1          1\n",
       "2         1      1           0          1          1\n",
       "3         1      1           0          1          1\n",
       "4         1      1           0          1          1\n",
       "5         1      1           0          1          0\n",
       "6         1      1           0          1          1\n",
       "7         1      1           0          0          1\n",
       "8         1      1           0          1          1\n",
       "9         1      1           0          1          0"
      ]
     },
     "execution_count": 88,
     "metadata": {},
     "output_type": "execute_result"
    }
   ],
   "source": [
    "\n",
    "evidence = [State(var='Burglary', state=1)]\n",
    "inference.rejection_sample(evidence = evidence, size = 10)"
   ]
  },
  {
   "cell_type": "markdown",
   "id": "cd6f52e8",
   "metadata": {},
   "source": [
    "Convenient version `model.simulate(n_samples = 10, evidence = {'Burglary': 1})`"
   ]
  },
  {
   "cell_type": "markdown",
   "id": "93eb371e-b993-4f15-9744-6233d7934010",
   "metadata": {},
   "source": [
    "### Importance sampling\n",
    "Sampling with a given value for `Alarm` is more difficult since it depends on `Burglary` and `Earthquake`. We use importance sampling here."
   ]
  },
  {
   "cell_type": "code",
   "execution_count": 89,
   "id": "709933b0-5f46-4941-bc9c-6c04251abe2c",
   "metadata": {},
   "outputs": [
    {
     "name": "stderr",
     "output_type": "stream",
     "text": [
      "\n",
      "\u001b[A\n",
      "\u001b[A\n",
      "\u001b[A\n",
      "\u001b[A\n",
      "\u001b[A\n",
      "Generating for node: MaryCalls: 100%|██████████| 5/5 [00:00<00:00, 338.41it/s]\n"
     ]
    },
    {
     "data": {
      "text/html": [
       "<div>\n",
       "<style scoped>\n",
       "    .dataframe tbody tr th:only-of-type {\n",
       "        vertical-align: middle;\n",
       "    }\n",
       "\n",
       "    .dataframe tbody tr th {\n",
       "        vertical-align: top;\n",
       "    }\n",
       "\n",
       "    .dataframe thead th {\n",
       "        text-align: right;\n",
       "    }\n",
       "</style>\n",
       "<table border=\"1\" class=\"dataframe\">\n",
       "  <thead>\n",
       "    <tr style=\"text-align: right;\">\n",
       "      <th></th>\n",
       "      <th>Burglary</th>\n",
       "      <th>Alarm</th>\n",
       "      <th>Earthquake</th>\n",
       "      <th>JohnCalls</th>\n",
       "      <th>MaryCalls</th>\n",
       "      <th>_weight</th>\n",
       "    </tr>\n",
       "  </thead>\n",
       "  <tbody>\n",
       "    <tr>\n",
       "      <th>0</th>\n",
       "      <td>0</td>\n",
       "      <td>1</td>\n",
       "      <td>0</td>\n",
       "      <td>1</td>\n",
       "      <td>1</td>\n",
       "      <td>0.001</td>\n",
       "    </tr>\n",
       "    <tr>\n",
       "      <th>1</th>\n",
       "      <td>0</td>\n",
       "      <td>1</td>\n",
       "      <td>0</td>\n",
       "      <td>1</td>\n",
       "      <td>1</td>\n",
       "      <td>0.001</td>\n",
       "    </tr>\n",
       "    <tr>\n",
       "      <th>2</th>\n",
       "      <td>0</td>\n",
       "      <td>1</td>\n",
       "      <td>0</td>\n",
       "      <td>1</td>\n",
       "      <td>1</td>\n",
       "      <td>0.001</td>\n",
       "    </tr>\n",
       "    <tr>\n",
       "      <th>3</th>\n",
       "      <td>0</td>\n",
       "      <td>1</td>\n",
       "      <td>0</td>\n",
       "      <td>1</td>\n",
       "      <td>1</td>\n",
       "      <td>0.001</td>\n",
       "    </tr>\n",
       "    <tr>\n",
       "      <th>4</th>\n",
       "      <td>0</td>\n",
       "      <td>1</td>\n",
       "      <td>0</td>\n",
       "      <td>1</td>\n",
       "      <td>1</td>\n",
       "      <td>0.001</td>\n",
       "    </tr>\n",
       "    <tr>\n",
       "      <th>5</th>\n",
       "      <td>0</td>\n",
       "      <td>1</td>\n",
       "      <td>0</td>\n",
       "      <td>1</td>\n",
       "      <td>1</td>\n",
       "      <td>0.001</td>\n",
       "    </tr>\n",
       "    <tr>\n",
       "      <th>6</th>\n",
       "      <td>0</td>\n",
       "      <td>1</td>\n",
       "      <td>0</td>\n",
       "      <td>0</td>\n",
       "      <td>1</td>\n",
       "      <td>0.001</td>\n",
       "    </tr>\n",
       "    <tr>\n",
       "      <th>7</th>\n",
       "      <td>0</td>\n",
       "      <td>1</td>\n",
       "      <td>0</td>\n",
       "      <td>1</td>\n",
       "      <td>1</td>\n",
       "      <td>0.001</td>\n",
       "    </tr>\n",
       "    <tr>\n",
       "      <th>8</th>\n",
       "      <td>0</td>\n",
       "      <td>1</td>\n",
       "      <td>0</td>\n",
       "      <td>1</td>\n",
       "      <td>1</td>\n",
       "      <td>0.001</td>\n",
       "    </tr>\n",
       "    <tr>\n",
       "      <th>9</th>\n",
       "      <td>0</td>\n",
       "      <td>1</td>\n",
       "      <td>0</td>\n",
       "      <td>1</td>\n",
       "      <td>1</td>\n",
       "      <td>0.001</td>\n",
       "    </tr>\n",
       "  </tbody>\n",
       "</table>\n",
       "</div>"
      ],
      "text/plain": [
       "   Burglary  Alarm  Earthquake  JohnCalls  MaryCalls  _weight\n",
       "0         0      1           0          1          1    0.001\n",
       "1         0      1           0          1          1    0.001\n",
       "2         0      1           0          1          1    0.001\n",
       "3         0      1           0          1          1    0.001\n",
       "4         0      1           0          1          1    0.001\n",
       "5         0      1           0          1          1    0.001\n",
       "6         0      1           0          0          1    0.001\n",
       "7         0      1           0          1          1    0.001\n",
       "8         0      1           0          1          1    0.001\n",
       "9         0      1           0          1          1    0.001"
      ]
     },
     "execution_count": 89,
     "metadata": {},
     "output_type": "execute_result"
    }
   ],
   "source": [
    "evidence = [State(var='Alarm', state=1)]\n",
    "inference.likelihood_weighted_sample(evidence = evidence, size = 10)"
   ]
  },
  {
   "cell_type": "markdown",
   "id": "d20c672d",
   "metadata": {},
   "source": [
    "## Gibbs Sampling\n",
    "\n",
    "Looks like `pmgpy` does not implement Gibbs Sampling with evidence."
   ]
  },
  {
   "cell_type": "code",
   "execution_count": 90,
   "id": "9249ec5a",
   "metadata": {},
   "outputs": [
    {
     "name": "stderr",
     "output_type": "stream",
     "text": [
      "\n",
      "\u001b[AWARNING:pgmpy:Probability values don't exactly sum to 1. Differ by: 1.1102230246251565e-16. Adjusting values.\n",
      "100%|██████████| 9/9 [00:00<00:00, 2024.82it/s]\n"
     ]
    },
    {
     "data": {
      "text/html": [
       "<div>\n",
       "<style scoped>\n",
       "    .dataframe tbody tr th:only-of-type {\n",
       "        vertical-align: middle;\n",
       "    }\n",
       "\n",
       "    .dataframe tbody tr th {\n",
       "        vertical-align: top;\n",
       "    }\n",
       "\n",
       "    .dataframe thead th {\n",
       "        text-align: right;\n",
       "    }\n",
       "</style>\n",
       "<table border=\"1\" class=\"dataframe\">\n",
       "  <thead>\n",
       "    <tr style=\"text-align: right;\">\n",
       "      <th></th>\n",
       "      <th>Burglary</th>\n",
       "      <th>Alarm</th>\n",
       "      <th>Earthquake</th>\n",
       "      <th>JohnCalls</th>\n",
       "      <th>MaryCalls</th>\n",
       "    </tr>\n",
       "  </thead>\n",
       "  <tbody>\n",
       "    <tr>\n",
       "      <th>0</th>\n",
       "      <td>1</td>\n",
       "      <td>0</td>\n",
       "      <td>1</td>\n",
       "      <td>0</td>\n",
       "      <td>0</td>\n",
       "    </tr>\n",
       "    <tr>\n",
       "      <th>1</th>\n",
       "      <td>0</td>\n",
       "      <td>0</td>\n",
       "      <td>0</td>\n",
       "      <td>0</td>\n",
       "      <td>0</td>\n",
       "    </tr>\n",
       "    <tr>\n",
       "      <th>2</th>\n",
       "      <td>0</td>\n",
       "      <td>0</td>\n",
       "      <td>0</td>\n",
       "      <td>0</td>\n",
       "      <td>0</td>\n",
       "    </tr>\n",
       "    <tr>\n",
       "      <th>3</th>\n",
       "      <td>0</td>\n",
       "      <td>0</td>\n",
       "      <td>0</td>\n",
       "      <td>0</td>\n",
       "      <td>0</td>\n",
       "    </tr>\n",
       "    <tr>\n",
       "      <th>4</th>\n",
       "      <td>0</td>\n",
       "      <td>0</td>\n",
       "      <td>0</td>\n",
       "      <td>0</td>\n",
       "      <td>0</td>\n",
       "    </tr>\n",
       "    <tr>\n",
       "      <th>5</th>\n",
       "      <td>0</td>\n",
       "      <td>0</td>\n",
       "      <td>0</td>\n",
       "      <td>0</td>\n",
       "      <td>0</td>\n",
       "    </tr>\n",
       "    <tr>\n",
       "      <th>6</th>\n",
       "      <td>0</td>\n",
       "      <td>0</td>\n",
       "      <td>0</td>\n",
       "      <td>0</td>\n",
       "      <td>0</td>\n",
       "    </tr>\n",
       "    <tr>\n",
       "      <th>7</th>\n",
       "      <td>0</td>\n",
       "      <td>0</td>\n",
       "      <td>0</td>\n",
       "      <td>0</td>\n",
       "      <td>0</td>\n",
       "    </tr>\n",
       "    <tr>\n",
       "      <th>8</th>\n",
       "      <td>0</td>\n",
       "      <td>0</td>\n",
       "      <td>0</td>\n",
       "      <td>1</td>\n",
       "      <td>0</td>\n",
       "    </tr>\n",
       "    <tr>\n",
       "      <th>9</th>\n",
       "      <td>0</td>\n",
       "      <td>0</td>\n",
       "      <td>0</td>\n",
       "      <td>0</td>\n",
       "      <td>0</td>\n",
       "    </tr>\n",
       "  </tbody>\n",
       "</table>\n",
       "</div>"
      ],
      "text/plain": [
       "   Burglary  Alarm  Earthquake  JohnCalls  MaryCalls\n",
       "0         1      0           1          0          0\n",
       "1         0      0           0          0          0\n",
       "2         0      0           0          0          0\n",
       "3         0      0           0          0          0\n",
       "4         0      0           0          0          0\n",
       "5         0      0           0          0          0\n",
       "6         0      0           0          0          0\n",
       "7         0      0           0          0          0\n",
       "8         0      0           0          1          0\n",
       "9         0      0           0          0          0"
      ]
     },
     "execution_count": 90,
     "metadata": {},
     "output_type": "execute_result"
    }
   ],
   "source": [
    "evidence = [State(var='Alarm', state=1)]\n",
    "from pgmpy.sampling import GibbsSampling\n",
    "gibbs_chain = GibbsSampling(model)\n",
    "gibbs_chain.sample(size=10)"
   ]
  },
  {
   "cell_type": "markdown",
   "id": "bf6b7f25-0fbc-442a-812b-f6df8d228673",
   "metadata": {},
   "source": [
    "# Estimating Probabilities\n",
    "\n",
    "The library provides functions to calculate/estimate probabilities."
   ]
  },
  {
   "cell_type": "markdown",
   "id": "ad214edf-2aae-458b-a82d-8f10a896c869",
   "metadata": {},
   "source": [
    "## Joint probability\n",
    "\n",
    "The following calculates $P(B=false, E=false, A=true, J=true, M=false)$,\n",
    "$P(B)$, $P(E)$, and $P(B, E)$."
   ]
  },
  {
   "cell_type": "code",
   "execution_count": 91,
   "metadata": {},
   "outputs": [
    {
     "data": {
      "text/plain": [
       "[0.00026919053999999995, 0.001, 0.002, 2e-06]"
      ]
     },
     "execution_count": 91,
     "metadata": {},
     "output_type": "execute_result"
    }
   ],
   "source": [
    "[model.get_state_probability({'Burglary': 0,\n",
    "                              'Earthquake': 0,\n",
    "                              \"Alarm\": 1,\n",
    "                              \"JohnCalls\": 1,\n",
    "                              \"MaryCalls\": 0}\n",
    "                             ),\n",
    " model.get_state_probability({'Burglary': 1}),\n",
    " model.get_state_probability({'Earthquake': 1}),\n",
    " model.get_state_probability({'Burglary': 1, 'Earthquake': 1})]"
   ]
  },
  {
   "cell_type": "code",
   "execution_count": 92,
   "id": "c1378fac-56c0-4cb4-9913-353264df1abf",
   "metadata": {
    "tags": []
   },
   "outputs": [
    {
     "data": {
      "text/plain": [
       "2e-06"
      ]
     },
     "execution_count": 92,
     "metadata": {},
     "output_type": "execute_result"
    }
   ],
   "source": [
    "# B and E are independent... P(B=false AND E=false) = P(B=false) * P(E=false)\n",
    "0.001 * 0.002"
   ]
  },
  {
   "cell_type": "markdown",
   "id": "7c0602a8-a821-4900-9b5d-68b6a4dcaf14",
   "metadata": {},
   "source": [
    "## Conditional probabilities given evidence\n",
    "\n",
    "What is the chance of an `Earthquake` if the `Alarm` goes off $P(E | A)$? Below we see it is `E=true` `Earthquake : 0.23`."
   ]
  },
  {
   "cell_type": "code",
   "execution_count": 93,
   "metadata": {},
   "outputs": [
    {
     "data": {
      "text/html": [
       "<div>\n",
       "<style scoped>\n",
       "    .dataframe tbody tr th:only-of-type {\n",
       "        vertical-align: middle;\n",
       "    }\n",
       "\n",
       "    .dataframe tbody tr th {\n",
       "        vertical-align: top;\n",
       "    }\n",
       "\n",
       "    .dataframe thead th {\n",
       "        text-align: right;\n",
       "    }\n",
       "</style>\n",
       "<table border=\"1\" class=\"dataframe\">\n",
       "  <thead>\n",
       "    <tr style=\"text-align: right;\">\n",
       "      <th></th>\n",
       "      <th>Earthquake_0</th>\n",
       "      <th>Earthquake_1</th>\n",
       "      <th>MaryCalls_0</th>\n",
       "      <th>MaryCalls_1</th>\n",
       "      <th>Burglary_0</th>\n",
       "      <th>Burglary_1</th>\n",
       "      <th>JohnCalls_0</th>\n",
       "      <th>JohnCalls_1</th>\n",
       "    </tr>\n",
       "  </thead>\n",
       "  <tbody>\n",
       "    <tr>\n",
       "      <th>0</th>\n",
       "      <td>0.768991</td>\n",
       "      <td>0.231009</td>\n",
       "      <td>0.3</td>\n",
       "      <td>0.7</td>\n",
       "      <td>0.626449</td>\n",
       "      <td>0.373551</td>\n",
       "      <td>0.1</td>\n",
       "      <td>0.9</td>\n",
       "    </tr>\n",
       "  </tbody>\n",
       "</table>\n",
       "</div>"
      ],
      "text/plain": [
       "   Earthquake_0  Earthquake_1  MaryCalls_0  MaryCalls_1  Burglary_0  \\\n",
       "0      0.768991      0.231009          0.3          0.7    0.626449   \n",
       "\n",
       "   Burglary_1  JohnCalls_0  JohnCalls_1  \n",
       "0    0.373551          0.1          0.9  "
      ]
     },
     "execution_count": 93,
     "metadata": {},
     "output_type": "execute_result"
    }
   ],
   "source": [
    "model.predict_probability(pd.DataFrame([{'Alarm': 1}]))"
   ]
  },
  {
   "cell_type": "markdown",
   "id": "23f67513-462c-4770-9455-58124c9110e4",
   "metadata": {},
   "source": [
    "What is the chance of an ongoing `Burglary` if both neighbors call $P(B | J, M)$? The result below for `B=true` is `Burglary_1 : 0.28`. "
   ]
  },
  {
   "cell_type": "code",
   "execution_count": 94,
   "metadata": {},
   "outputs": [
    {
     "data": {
      "text/html": [
       "<div>\n",
       "<style scoped>\n",
       "    .dataframe tbody tr th:only-of-type {\n",
       "        vertical-align: middle;\n",
       "    }\n",
       "\n",
       "    .dataframe tbody tr th {\n",
       "        vertical-align: top;\n",
       "    }\n",
       "\n",
       "    .dataframe thead th {\n",
       "        text-align: right;\n",
       "    }\n",
       "</style>\n",
       "<table border=\"1\" class=\"dataframe\">\n",
       "  <thead>\n",
       "    <tr style=\"text-align: right;\">\n",
       "      <th></th>\n",
       "      <th>Alarm_0</th>\n",
       "      <th>Alarm_1</th>\n",
       "      <th>Earthquake_0</th>\n",
       "      <th>Earthquake_1</th>\n",
       "      <th>Burglary_0</th>\n",
       "      <th>Burglary_1</th>\n",
       "    </tr>\n",
       "  </thead>\n",
       "  <tbody>\n",
       "    <tr>\n",
       "      <th>0</th>\n",
       "      <td>0.239308</td>\n",
       "      <td>0.760692</td>\n",
       "      <td>0.823933</td>\n",
       "      <td>0.176067</td>\n",
       "      <td>0.715828</td>\n",
       "      <td>0.284172</td>\n",
       "    </tr>\n",
       "  </tbody>\n",
       "</table>\n",
       "</div>"
      ],
      "text/plain": [
       "    Alarm_0   Alarm_1  Earthquake_0  Earthquake_1  Burglary_0  Burglary_1\n",
       "0  0.239308  0.760692      0.823933      0.176067    0.715828    0.284172"
      ]
     },
     "execution_count": 94,
     "metadata": {},
     "output_type": "execute_result"
    }
   ],
   "source": [
    "model.predict_probability(pd.DataFrame([{'JohnCalls': 1, 'MaryCalls': 1}]))"
   ]
  },
  {
   "cell_type": "markdown",
   "metadata": {},
   "source": [
    "## Learning Bayes Networks from Data\n",
    "\n",
    "`pgmpy` provides a `fit` function to learn the model."
   ]
  }
 ],
 "metadata": {
  "kernelspec": {
   "display_name": "Python 3 (ipykernel)",
   "language": "python",
   "name": "python3"
  },
  "language_info": {
   "codemirror_mode": {
    "name": "ipython",
    "version": 3
   },
   "file_extension": ".py",
   "mimetype": "text/x-python",
   "name": "python",
   "nbconvert_exporter": "python",
   "pygments_lexer": "ipython3",
   "version": "3.10.12"
  }
 },
 "nbformat": 4,
 "nbformat_minor": 5
}
