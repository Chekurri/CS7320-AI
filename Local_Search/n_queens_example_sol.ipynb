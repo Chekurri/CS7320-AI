{
 "cells": [
  {
   "cell_type": "markdown",
   "metadata": {},
   "source": [
    "# Solving the n-Queens Problem using Local Search"
   ]
  },
  {
   "cell_type": "markdown",
   "metadata": {},
   "source": [
    "__Goal:__ Find an arrangement of n queens on a $n \\times n$ chess board so that no queen is on the same row, column or diagonal as any other queen.\n",
    "\n",
    "__State space:__ An arrangement of the queens on the board. We restrict the state space to arrangements where there is only a single queen per column. We will call a state a \"board.\"\n",
    "\n",
    "__Objective function:__ The number of pairwise conflicts (i.e., two queens in the same row/column/diagonal).\n",
    "\n",
    "## Helper functions"
   ]
  },
  {
   "cell_type": "code",
   "execution_count": 11,
   "metadata": {},
   "outputs": [],
   "source": [
    "import numpy as np\n",
    "import matplotlib.pyplot as plt\n",
    "from matplotlib import colors\n",
    "import math\n",
    "\n",
    "\n",
    "def random_board(n):\n",
    "    \"\"\"Creates a random board of size n x n. Note that only a single queen is placed in each column!\"\"\"\n",
    "    \n",
    "    return(np.random.randint(0,n, size = n))\n",
    "\n",
    "\n",
    "def value(board):\n",
    "    \"\"\"Caclulate the number of conflicts, i.e., the objective function.\"\"\"\n",
    "    \n",
    "    board = np.array(board)\n",
    "    \n",
    "    n = len(board)\n",
    "    val = 0\n",
    "\n",
    "    # check horizontal (we do not check vertical since the state space is restricted to one queen per col)\n",
    "    for i in range(n): val += math.comb(np.sum(board == i), 2)\n",
    "    #print(f\"Horizontal value: {val}\")\n",
    "    \n",
    "    # check for each queen diagonally up and down (only to the right side of the queen)\n",
    "    for j in range(n):\n",
    "        q_up = board[j]\n",
    "        q_down = board[j]\n",
    "     \n",
    "        for jj in range(j+1, n):\n",
    "            q_up -= 1\n",
    "            q_down += 1\n",
    "            if board[jj] == q_up: val += 1\n",
    "            if board[jj] == q_down: val += 1\n",
    "        #print(f\"Value after queen {j}: {val}\")\n",
    "       \n",
    "    return(val)    \n",
    "    \n",
    "def show_board(board, cols = ['white', 'gray'], fontsize = 48):  \n",
    "    \"\"\"display the board\"\"\"\n",
    "    \n",
    "    n = len(board)\n",
    "    \n",
    "    # create chess board display\n",
    "    display = np.zeros([n,n])\n",
    "    for i in range(n):\n",
    "        for j in range(n):\n",
    "            if (((i+j) % 2) != 0): \n",
    "                display[i,j] = 1\n",
    "    \n",
    "    cmap = colors.ListedColormap(cols)\n",
    "    fig, ax = plt.subplots()\n",
    "    ax.imshow(display, cmap = cmap, \n",
    "              norm = colors.BoundaryNorm(range(len(cols)+1), cmap.N))\n",
    "    ax.set_xticks([])\n",
    "    ax.set_yticks([])\n",
    "    \n",
    "    # place queens. Note: 1 and j are switched. Unicode u265B is a black queen\n",
    "    for j in range(n):\n",
    "        plt.text(j, board[j], u\"\\u265B\", fontsize = fontsize, \n",
    "                 horizontalalignment = 'center',\n",
    "                 verticalalignment = 'center')\n",
    "    \n",
    "    print(f\"Board with value: {value(board)}\")\n",
    "    plt.show()"
   ]
  },
  {
   "cell_type": "code",
   "execution_count": 123,
   "metadata": {},
   "outputs": [],
   "source": [
    "# faster value function\n",
    "\n",
    "def comb2(n): return n*(n-1)//2\n",
    "\n",
    "def value2(board):\n",
    "    \"\"\"Caclulate the number of conflicts, i.e., the objective function.\"\"\"\n",
    "    board = np.array(board)\n",
    "    n = len(board)\n",
    "    conflicts = 0\n",
    "    \n",
    "    horizontal_cnt = [0] * n\n",
    "    diagonal1_cnt = [0] * 2 * n\n",
    "    diagonal2_cnt = [0] * 2 * n\n",
    "    \n",
    "    for i in range(n):\n",
    "        horizontal_cnt[board[i]] += 1\n",
    "        diagonal1_cnt[i + board[i]] += 1\n",
    "        diagonal2_cnt[i - board[i] + n] += 1\n",
    "    \n",
    "    for i in horizontal_cnt:\n",
    "        conflicts += comb2(i)\n",
    "    for i in diagonal1_cnt:\n",
    "        conflicts += comb2(i)\n",
    "    for i in diagonal2_cnt:\n",
    "        conflicts += comb2(i)\n",
    "        \n",
    "    return(conflicts)"
   ]
  },
  {
   "cell_type": "code",
   "execution_count": 119,
   "metadata": {},
   "outputs": [],
   "source": [
    "def value4(board):\n",
    "    \"\"\"Caclulate the number of conflicts, i.e., the objective function.\"\"\"\n",
    "    #board = np.array(board)\n",
    "    n = len(board)\n",
    "    \n",
    "    horizontal_cnt = [0] * n\n",
    "    diagonal1_cnt = [0] * 2 * n\n",
    "    diagonal2_cnt = [0] * 2 * n\n",
    "    \n",
    "    for i in range(n):\n",
    "        horizontal_cnt[board[i]] += 1\n",
    "        diagonal1_cnt[i + board[i]] += 1\n",
    "        diagonal2_cnt[i - board[i] + n] += 1\n",
    "        \n",
    "    return sum(map(comb2, horizontal_cnt + diagonal1_cnt + diagonal2_cnt))"
   ]
  },
  {
   "cell_type": "code",
   "execution_count": 107,
   "metadata": {},
   "outputs": [],
   "source": [
    "def value3(board):\n",
    "    \"\"\"Caclulate the number of conflicts, i.e., the objective function.\"\"\"\n",
    "    \n",
    "    board = np.array(board)\n",
    "    \n",
    "    n = len(board)\n",
    "\n",
    "    diag_down = np.subtract(board, range(0, n))\n",
    "    diag_up = np.add(board, range(0, n))\n",
    "\n",
    "    elements, counts_horiz = np.unique(board, return_counts = True)\n",
    "    elements, counts_up = np.unique(diag_up, return_counts = True)\n",
    "    elements, counts_down = np.unique(diag_down, return_counts = True)\n",
    "\n",
    "    all = np.concatenate((counts_horiz, counts_up, counts_down))\n",
    "\n",
    "#    return np.sum([math.comb(c, 2) for c in all])\n",
    "    return np.sum([comb2(c) for c in all])\n",
    "#    return np.sum(map(comb2, all))"
   ]
  },
  {
   "cell_type": "code",
   "execution_count": 69,
   "metadata": {},
   "outputs": [],
   "source": [
    "b = random_board(20)"
   ]
  },
  {
   "cell_type": "code",
   "execution_count": 71,
   "metadata": {},
   "outputs": [
    {
     "name": "stdout",
     "output_type": "stream",
     "text": [
      "499 µs ± 7.35 µs per loop (mean ± std. dev. of 7 runs, 1000 loops each)\n"
     ]
    }
   ],
   "source": [
    "%%timeit\n",
    "\n",
    "value(b)"
   ]
  },
  {
   "cell_type": "code",
   "execution_count": 126,
   "metadata": {},
   "outputs": [
    {
     "name": "stdout",
     "output_type": "stream",
     "text": [
      "79.8 µs ± 944 ns per loop (mean ± std. dev. of 7 runs, 10000 loops each)\n"
     ]
    }
   ],
   "source": [
    "%%timeit\n",
    "\n",
    "value2(b)"
   ]
  },
  {
   "cell_type": "code",
   "execution_count": 82,
   "metadata": {},
   "outputs": [
    {
     "name": "stdout",
     "output_type": "stream",
     "text": [
      "124 µs ± 709 ns per loop (mean ± std. dev. of 7 runs, 10000 loops each)\n"
     ]
    }
   ],
   "source": [
    "%%timeit\n",
    "\n",
    "value3(b)"
   ]
  },
  {
   "cell_type": "code",
   "execution_count": 125,
   "metadata": {},
   "outputs": [
    {
     "name": "stdout",
     "output_type": "stream",
     "text": [
      "69.1 µs ± 879 ns per loop (mean ± std. dev. of 7 runs, 10000 loops each)\n"
     ]
    }
   ],
   "source": [
    "%%timeit\n",
    "\n",
    "value4(b)"
   ]
  },
  {
   "cell_type": "code",
   "execution_count": 124,
   "metadata": {},
   "outputs": [
    {
     "data": {
      "text/plain": [
       "[20, 20, 20, 20]"
      ]
     },
     "execution_count": 124,
     "metadata": {},
     "output_type": "execute_result"
    }
   ],
   "source": [
    "b = random_board(20)\n",
    "[value(b), value2(b), value3(b), value4(b)]"
   ]
  },
  {
   "cell_type": "markdown",
   "metadata": {},
   "source": [
    "## Create a board"
   ]
  },
  {
   "cell_type": "code",
   "execution_count": 24,
   "metadata": {},
   "outputs": [
    {
     "name": "stdout",
     "output_type": "stream",
     "text": [
      "Board with value: 5\n"
     ]
    },
    {
     "data": {
      "image/png": "[encoded data removed]",
      "text/plain": [
       "<Figure size 432x288 with 1 Axes>"
      ]
     },
     "metadata": {},
     "output_type": "display_data"
    },
    {
     "name": "stdout",
     "output_type": "stream",
     "text": [
      "Queens are at: [0 1 0 0]\n"
     ]
    }
   ],
   "source": [
    "board = random_board(4)\n",
    "\n",
    "show_board(board)\n",
    "print(f\"Queens are at: {board}\")"
   ]
  },
  {
   "cell_type": "markdown",
   "metadata": {},
   "source": [
    "## Steepest-ascend Hill Climbing Search"
   ]
  },
  {
   "cell_type": "code",
   "execution_count": 5,
   "metadata": {},
   "outputs": [
    {
     "name": "stdout",
     "output_type": "stream",
     "text": [
      "Board with value: 5\n"
     ]
    },
    {
     "data": {
      "image/png": "[encoded data removed]",
      "text/plain": [
       "<Figure size 432x288 with 1 Axes>"
      ]
     },
     "metadata": {},
     "output_type": "display_data"
    },
    {
     "name": "stdout",
     "output_type": "stream",
     "text": [
      "[[2 5 3 5]\n",
      " [5 6 5 5]\n",
      " [3 5 4 5]\n",
      " [4 4 4 3]]\n",
      "Best value: 5 - New minimum: 2\n",
      "Board with value: 2\n"
     ]
    },
    {
     "data": {
      "image/png": "[encoded data removed]",
      "text/plain": [
       "<Figure size 432x288 with 1 Axes>"
      ]
     },
     "metadata": {},
     "output_type": "display_data"
    },
    {
     "name": "stdout",
     "output_type": "stream",
     "text": [
      "[[2 3 2 4]\n",
      " [5 4 2 2]\n",
      " [3 2 3 3]\n",
      " [4 2 1 2]]\n",
      "Best value: 2 - New minimum: 1\n",
      "Board with value: 1\n"
     ]
    },
    {
     "data": {
      "image/png": "[encoded data removed]",
      "text/plain": [
       "<Figure size 432x288 with 1 Axes>"
      ]
     },
     "metadata": {},
     "output_type": "display_data"
    },
    {
     "name": "stdout",
     "output_type": "stream",
     "text": [
      "[[1 1 2 3]\n",
      " [4 2 2 1]\n",
      " [2 1 3 3]\n",
      " [3 2 1 3]]\n",
      "Best value: 1 - New minimum: 1\n",
      "Board with value: 1\n"
     ]
    },
    {
     "data": {
      "image/png": "[encoded data removed]",
      "text/plain": [
       "<Figure size 432x288 with 1 Axes>"
      ]
     },
     "metadata": {},
     "output_type": "display_data"
    },
    {
     "data": {
      "text/plain": [
       "1"
      ]
     },
     "execution_count": 5,
     "metadata": {},
     "output_type": "execute_result"
    }
   ],
   "source": [
    "def SAHC(board, verbose = False):\n",
    "    \"\"\"perform steepest-ascend hill climbing\"\"\"\n",
    "    \n",
    "    if verbose: show_board(board)\n",
    "    \n",
    "    n = len(board)\n",
    "    \n",
    "    best_val = value(board)                  # current best value\n",
    "    vals = np.full([n,n], -1, dtype = int)   # array to store the values \n",
    "\n",
    "    while True:        \n",
    "        # go though columns\n",
    "        for j in range(n):\n",
    "            # test each position\n",
    "            old_q = board[j]\n",
    "            for i in range(n):\n",
    "                board[j] = i\n",
    "                vals[i,j] = value(board)\n",
    "            board[j] = old_q\n",
    "        new_min = np.min(vals)\n",
    "        \n",
    "        if verbose: print(vals)\n",
    "        if verbose: print(f\"Best value: {best_val} - New minimum: {new_min}\")\n",
    "        \n",
    "        # TODO: We could allow side steps.\n",
    "        if(best_val > new_min):\n",
    "            # accept best move (break ties randomly)\n",
    "            w = np.where(vals == new_min)\n",
    "            best = [a for a in zip(w[0], w[1])]\n",
    "            best = best[np.random.randint(0,len(best))]\n",
    "            board[best[1]] = best[0]\n",
    "            best_val = new_min\n",
    "            \n",
    "            if verbose: show_board(board)\n",
    "        \n",
    "        # no more improvement\n",
    "        else: return(board)\n",
    "        \n",
    "b = SAHC(board, verbose = True) \n",
    "show_board(b)\n",
    "\n",
    "value(b)"
   ]
  },
  {
   "cell_type": "markdown",
   "metadata": {},
   "source": [
    "## Stochastic Hill Climbing"
   ]
  },
  {
   "cell_type": "code",
   "execution_count": 8,
   "metadata": {},
   "outputs": [],
   "source": [
    "# Code goes here"
   ]
  },
  {
   "cell_type": "markdown",
   "metadata": {},
   "source": [
    "## Random Restarts"
   ]
  },
  {
   "cell_type": "code",
   "execution_count": 9,
   "metadata": {},
   "outputs": [
    {
     "name": "stdout",
     "output_type": "stream",
     "text": [
      "Needed restarts: 6\n",
      "Board with value: 0\n"
     ]
    },
    {
     "data": {
      "image/png": "[encoded data removed]",
      "text/plain": [
       "<Figure size 432x288 with 1 Axes>"
      ]
     },
     "metadata": {},
     "output_type": "display_data"
    }
   ],
   "source": [
    "def random_restarts(n, opt, restarts = 100, verbose = True):\n",
    "    \"\"\"Hill climbing with random restarts\"\"\"\n",
    "    \n",
    "    best_board = random_board(n)\n",
    "    best_val = value(best_board)\n",
    "    \n",
    "    \n",
    "    for i in range(restarts):\n",
    "        board = random_board(n)\n",
    "        board = opt(board, verbose = False)\n",
    "        val = value(board)\n",
    "        \n",
    "        # remember the best board\n",
    "        if val < best_val:\n",
    "            best_board = board\n",
    "            best_val = val\n",
    "        \n",
    "        if val == 0: \n",
    "            if verbose: print(f\"Needed restarts: {i+1}\")\n",
    "            return(board)\n",
    "    \n",
    "    if verbose: print(f\"Could not find a solution with {restarts} restarts.\")\n",
    "    return best_board\n",
    "    \n",
    "board = random_restarts(8, SAHC)\n",
    "show_board(board, fontsize = 28)"
   ]
  },
  {
   "cell_type": "markdown",
   "metadata": {},
   "source": [
    "## Simulated Annealing"
   ]
  },
  {
   "cell_type": "code",
   "execution_count": 10,
   "metadata": {},
   "outputs": [],
   "source": [
    "# Code goes here"
   ]
  },
  {
   "cell_type": "markdown",
   "metadata": {},
   "source": [
    "## Genetic Algorithm"
   ]
  },
  {
   "cell_type": "code",
   "execution_count": 11,
   "metadata": {},
   "outputs": [],
   "source": [
    "# Code goes here"
   ]
  },
  {
   "cell_type": "markdown",
   "metadata": {},
   "source": [
    "## Compare Performance\n",
    "\n",
    "Use runtime, scalability, and best objective function value to compare the algorithms on boards of different sizes.  "
   ]
  },
  {
   "cell_type": "code",
   "execution_count": 12,
   "metadata": {},
   "outputs": [
    {
     "name": "stdout",
     "output_type": "stream",
     "text": [
      "n = 4:\tmean(time) = 3.39 ms \tmean(objective) = 0.55\n",
      "n = 5:\tmean(time) = 6.21 ms \tmean(objective) = 0.45\n",
      "n = 6:\tmean(time) = 15.35 ms \tmean(objective) = 1.05\n",
      "n = 7:\tmean(time) = 21.23 ms \tmean(objective) = 1.0\n",
      "n = 8:\tmean(time) = 42.87 ms \tmean(objective) = 1.15\n",
      "n = 9:\tmean(time) = 72.3 ms \tmean(objective) = 1.1\n",
      "n = 10:\tmean(time) = 113.06 ms \tmean(objective) = 1.95\n",
      "n = 11:\tmean(time) = 149.16 ms \tmean(objective) = 1.8\n",
      "n = 12:\tmean(time) = 213.09 ms \tmean(objective) = 1.9\n"
     ]
    }
   ],
   "source": [
    "# I could use timeit but I already do multiple runs for the objective function value so I sue time\n",
    "import time\n",
    "\n",
    "N = 20                               # number of replications (Note: should be 100 or more)\n",
    "ns = [4, 5, 6, 7, 8, 9, 10, 11, 12]  # board sizes\n",
    "\n",
    "mean_val = np.empty(len(ns), dtype=float)\n",
    "mean_t = np.empty(len(ns), dtype=float)\n",
    "\n",
    "for i,n in enumerate(ns):\n",
    "    val = np.empty(N, dtype=int)\n",
    "    t = np.empty(N, dtype=float)\n",
    "    \n",
    "    for j in range(N):\n",
    "        t0 = time.time()\n",
    "        board = random_board(n)\n",
    "        sol = SAHC(board) \n",
    "        t1 = time.time()\n",
    "       \n",
    "        val[j] = value(sol)\n",
    "        t[j] = t1-t0\n",
    "    \n",
    "    mean_val[i] = np.average(val)\n",
    "    mean_t[i] = np.average(t)\n",
    "    \n",
    "    print(f\"n = {n}:\\tmean(time) = {round(mean_t[i]* 1e3, 2)} ms \\tmean(objective) = {mean_val[i]}\")"
   ]
  },
  {
   "cell_type": "code",
   "execution_count": 13,
   "metadata": {},
   "outputs": [
    {
     "data": {
      "image/png": "[encoded data removed]",
      "text/plain": [
       "<Figure size 432x288 with 1 Axes>"
      ]
     },
     "metadata": {
      "needs_background": "light"
     },
     "output_type": "display_data"
    },
    {
     "data": {
      "image/png": "[encoded data removed]",
      "text/plain": [
       "<Figure size 432x288 with 1 Axes>"
      ]
     },
     "metadata": {
      "needs_background": "light"
     },
     "output_type": "display_data"
    }
   ],
   "source": [
    "import matplotlib.pyplot as plt\n",
    "\n",
    "plt.plot(ns, mean_t * 1e3)\n",
    "plt.xlabel(\"n\")\n",
    "plt.ylabel(\"average runtime in ms\")\n",
    "plt.show()\n",
    "\n",
    "plt.plot(ns, mean_val)\n",
    "plt.xlabel(\"n\")\n",
    "plt.ylabel(\"average objective value\")\n",
    "plt.show()"
   ]
  },
  {
   "cell_type": "code",
   "execution_count": 18,
   "metadata": {},
   "outputs": [
    {
     "name": "stdout",
     "output_type": "stream",
     "text": [
      "n = 4:\tmean(time) = 6.18 ms \tmean(objective) = 0.0\n",
      "n = 5:\tmean(time) = 7.89 ms \tmean(objective) = 0.0\n",
      "n = 6:\tmean(time) = 133.42 ms \tmean(objective) = 0.0\n",
      "n = 7:\tmean(time) = 94.71 ms \tmean(objective) = 0.0\n",
      "n = 8:\tmean(time) = 184.45 ms \tmean(objective) = 0.0\n",
      "n = 9:\tmean(time) = 407.23 ms \tmean(objective) = 0.0\n",
      "n = 10:\tmean(time) = 1346.62 ms \tmean(objective) = 0.0\n",
      "n = 11:\tmean(time) = 3021.2 ms \tmean(objective) = 0.0\n",
      "n = 12:\tmean(time) = 4139.12 ms \tmean(objective) = 0.0\n"
     ]
    }
   ],
   "source": [
    "RESTARTS = 100\n",
    "\n",
    "mean_val = np.empty(len(ns), dtype=float)\n",
    "mean_t = np.empty(len(ns), dtype=float)\n",
    "\n",
    "for i,n in enumerate(ns):\n",
    "    val = np.empty(N, dtype=int)\n",
    "    t = np.empty(N, dtype=float)\n",
    "    \n",
    "    for j in range(N):\n",
    "        t0 = time.time()\n",
    "        sol = random_restarts(n, SAHC, restarts = RESTARTS, verbose = False) \n",
    "        t1 = time.time()\n",
    "       \n",
    "        val[j] = value(sol)\n",
    "        t[j] = t1-t0\n",
    "    \n",
    "    mean_val[i] = np.average(val)\n",
    "    mean_t[i] = np.average(t)\n",
    "    \n",
    "    print(f\"n = {n}:\\tmean(time) = {round(mean_t[i]* 1e3, 2)} ms \\tmean(objective) = {mean_val[i]}\")"
   ]
  },
  {
   "cell_type": "code",
   "execution_count": 19,
   "metadata": {},
   "outputs": [
    {
     "data": {
      "image/png": "[encoded data removed]",
      "text/plain": [
       "<Figure size 432x288 with 1 Axes>"
      ]
     },
     "metadata": {
      "needs_background": "light"
     },
     "output_type": "display_data"
    },
    {
     "data": {
      "image/png": "[encoded data removed]",
      "text/plain": [
       "<Figure size 432x288 with 1 Axes>"
      ]
     },
     "metadata": {
      "needs_background": "light"
     },
     "output_type": "display_data"
    }
   ],
   "source": [
    "plt.plot(ns, mean_t * 1e3)\n",
    "plt.xlabel(\"n\")\n",
    "plt.ylabel(\"average runtime in ms\")\n",
    "plt.show()\n",
    "\n",
    "plt.plot(ns, mean_val)\n",
    "plt.xlabel(\"n\")\n",
    "plt.ylabel(\"average objective value\")\n",
    "plt.show()"
   ]
  }
 ],
 "metadata": {
  "kernelspec": {
   "display_name": "Python 3 (ipykernel)",
   "language": "python",
   "name": "python3"
  },
  "language_info": {
   "codemirror_mode": {
    "name": "ipython",
    "version": 3
   },
   "file_extension": ".py",
   "mimetype": "text/x-python",
   "name": "python",
   "nbconvert_exporter": "python",
   "pygments_lexer": "ipython3",
   "version": "3.9.5"
  },
  "toc-autonumbering": false,
  "toc-showcode": false,
  "toc-showmarkdowntxt": false,
  "toc-showtags": false
 },
 "nbformat": 4,
 "nbformat_minor": 4
}
